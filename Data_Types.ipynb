{
  "nbformat": 4,
  "nbformat_minor": 0,
  "metadata": {
    "colab": {
      "provenance": []
    },
    "kernelspec": {
      "name": "python3",
      "display_name": "Python 3"
    },
    "language_info": {
      "name": "python"
    }
  },
  "cells": [
    {
      "cell_type": "markdown",
      "source": [
        "#Name = Rithik\n",
        "Email = hritikbhardwaj2004@gmail.com\n",
        "Assignment Name = Data Types\n",
        "\n",
        "\n",
        "# Questions & Answers\n",
        "#1 What are data structures and why are they important\n",
        "-> Data structures are specialized formats for organizing, storing, and retrieving data.\n",
        "They provide a way to arrange data in a computer so that it can be accessed and updated efficiently.\n",
        "Examples - arrays, linked lists etc.\n",
        "\n",
        "#2 Explain the difference between mutable and immutable data types with examples\n",
        "-> Mutable data types are those whose values can be modified after they are created. For ex - Lists and sets\n",
        "-> Immutable data types are those whose values cannot be changed after they are created. For ex - Strings and tuples.\n",
        "\n",
        "#3 What are the main differences between lists and tuples in python\n",
        "-> Lists can be modified, meaning their elements can be changed, added or removed after creation.\n",
        "Iteration over lists is time-consuming.\n",
        "Lists are better for performing operations, such as insertion and deletion.\n",
        "\n",
        "->Tuples cannot be modified after creation. Any attempt to change an element will result in an error.\n",
        "Iterations over tuple is faster\n",
        "Tuples are more suitable for accessing elements efficiently.\n",
        "\n",
        "#4 Describe how dictionaries store data\n",
        "-> Dictionaries are used to store data values in key:value pairs.\n",
        "A dictionary is a collection which is ordered*, changeable and do not allow duplicates.\n",
        "\n",
        "#5 Why might you use a set instead of a list in python\n",
        "-> Sets cannot have multiple occurrences of the same element, it makes sets highly useful to efficiently remove duplicate values from a list or tuple and to perform common math operations like unions and intersections.\n",
        "\n",
        "#6 What is a string in python and how its different from a list\n",
        "-> A string is a sequence of characters between single or double quotes.String is used for representing textual data.\n",
        "\n",
        "A list is a sequence of items, where each item could be anything (an integer, a float, a string, etc).\n",
        "\n",
        "#7 How do tuples ensure data integrity in python\n",
        "-> Tuples are immutable in nature i.e. they cannot be changed or modified after they are created. Their contents remain constant throughout their lifecycle, which guarantees data integrity and reliability.\n",
        "\n",
        "#8 What is a hash table and how does it related to dictionaries in python\n",
        "-> A hash table is a data structure that allows for quick insertion, deletion and retreival of data. It works by using a hash function to map a key to an index in an array.\n",
        "# Relation of hash table with dictionaries in Python\n",
        "1) Python dictionaries are implemented using hash tables.\n",
        "2) When we create a dictionary, Python uses a hash function to map the keys to indices within an internal array (or \"buckets\").\n",
        "\n",
        "#9 Can lists contain different data types in python\n",
        "-> Yes\n",
        "\n",
        "#10 Explain why strings are immutable in python\n",
        "-> Immutability is the property of an object due to which we cannot change the object after the creation of it and this immutability in the case of a string is known as string immutability.\n",
        "\n",
        "#11 What advantages do dictionaries offer over lists for certain tasks\n",
        "-> Fast Lookups:Dictionaries use a hash table, allowing for near-instantaneous retrieval of values based on their keys, unlike lists where you need to iterate through elements to find a specific value.\n",
        "\n",
        "Key-Value Pairs:Dictionaries store data as key-value pairs, making it easy to associate data with meaningful identifiers, which is useful for representing data with relationships or metadata.\n",
        "\n",
        "#12 Describe a scenario where using a tuple would be preferable over a list\n",
        "-> we can use a tuple if we need an immutable collection where the elements won't change after creation.\n",
        "\n",
        "#13 How do sets handle duplicate values in python\n",
        "-> Python sets cannot have duplicate values. While you cannot modify the individual elements directly, you can still add or remove elements from the set.\n",
        "\n",
        "#14 How does the in keyword work differently for list and dictionary\n",
        "-> The \"in\" operation for the dictionary tests on keys. The key of the dictionary is a unique value as well as the set, and the execution time is about the same as for sets. On the other hand, dictionary values can be duplicated like a list.\n",
        "\n",
        "#15 Can you modify the elements of a tuple explain why and or why not\n",
        "-> No, we cannot directly modify the elements of a tuple in Python because tuples are immutable, meaning their contents cannot be changed after creation.\n",
        "\n",
        "#16 What is a nested dictionary give an give an example of its use case\n",
        "-> A nested dictionary is a dictionary where the values are themselves dictionaries, allowing for hierarchical data organization. A use case is representing an organizational chart, where each department (key) has a dictionary of employees (value) with their details.\n",
        "\n",
        "#17 Describe the time complexity of accessing elements in a dictionary\n",
        "-> Accessing elements in a dictionary (or hash map) by key has an average time complexity of O(1), meaning it takes constant time, regardless of the dictionary's size.\n",
        "\n",
        "Dictionaries are typically implemented using hash tables (or hash maps).\n",
        "Hashing:\n",
        "A hash function converts the key into an index (or hash value) within the table.\n",
        "\n",
        "#18 In what situations are lists preferred over dictionaries\n",
        "-> Lists are preferred over the dictionaries when the order of the elements is crucial, you need to store multiple values for an item or when performing ordered operations like sorting is more important than fast lookups.\n",
        "\n",
        "#19 Why are dictionaries considered unordered and how does that affect data retrieval\n",
        "-> Dictionaries are considered unordered because they don't inherently maintain the order in which elements are added; instead, they prioritize fast key-based access, meaning retrieval is based on the key, not a position or index. This lack of inherent order means you can't rely on the order of keys when iterating or retrieving data.\n",
        "\n",
        "#20 Explain the difference between a list and dictionary in terms of  data retrieval\n",
        "->  list is an ordered collection of items, whereas a dictionary is an unordered data collection in a key: value pair.\n",
        "Elements from the list can be accessed using the index, while the elements of the dictionary can be accessed using keys."
      ],
      "metadata": {
        "id": "tya7RWwFBbIf"
      }
    },
    {
      "cell_type": "code",
      "execution_count": null,
      "metadata": {
        "id": "XK_dCSlPAq8l"
      },
      "outputs": [],
      "source": [
        "#Question & Answer"
      ]
    },
    {
      "cell_type": "code",
      "source": [
        "# 1 Write a code to create a string with your name and print it\n",
        "Name = \"Rithik\"\n",
        "print(Name)"
      ],
      "metadata": {
        "id": "eEO0jZcGBHz9",
        "colab": {
          "base_uri": "https://localhost:8080/"
        },
        "outputId": "4bab76af-8e1c-4ebc-df45-57d44547ae06"
      },
      "execution_count": 3,
      "outputs": [
        {
          "output_type": "stream",
          "name": "stdout",
          "text": [
            "Rithik\n"
          ]
        }
      ]
    },
    {
      "cell_type": "code",
      "source": [
        "#2 Write a code to find the length of the string \"Hello World\"\n",
        "i = \"Hello World\"\n",
        "print(len(i))"
      ],
      "metadata": {
        "colab": {
          "base_uri": "https://localhost:8080/"
        },
        "id": "E89XSk-Snjzm",
        "outputId": "e2b9b56b-c4ed-4329-e071-f496b56b16b5"
      },
      "execution_count": 12,
      "outputs": [
        {
          "output_type": "stream",
          "name": "stdout",
          "text": [
            "11\n"
          ]
        }
      ]
    },
    {
      "cell_type": "code",
      "source": [
        "#3 Write a code to slice the first 3 characters from the string \"Python Programming\"\n",
        "s = \"Python Programming\"\n",
        "print(s[3:])"
      ],
      "metadata": {
        "colab": {
          "base_uri": "https://localhost:8080/"
        },
        "id": "ASSW61Cgrfqj",
        "outputId": "6255c753-5db5-46a9-ec39-d0c54e399985"
      },
      "execution_count": 5,
      "outputs": [
        {
          "output_type": "stream",
          "name": "stdout",
          "text": [
            "hon Programming\n"
          ]
        }
      ]
    },
    {
      "cell_type": "code",
      "source": [
        "#4 Write a code to convert the string \"hello\" to uppercase\n",
        "username = input(\"Enter your name: \")\n",
        "print(username.upper())"
      ],
      "metadata": {
        "colab": {
          "base_uri": "https://localhost:8080/"
        },
        "id": "46vWYbubs0nZ",
        "outputId": "d450157d-ead4-46d1-f843-8720cd98d947"
      },
      "execution_count": 6,
      "outputs": [
        {
          "output_type": "stream",
          "name": "stdout",
          "text": [
            "Enter your name: hello\n",
            "HELLO\n"
          ]
        }
      ]
    },
    {
      "cell_type": "code",
      "source": [
        "#5 Write a code to replace the word \"apple\" with \"orange\" in the string \"i like apple\"\n",
        "username = \"i like apple\"\n",
        "print(username.replace(\"apple\",\"orange\"))\n"
      ],
      "metadata": {
        "colab": {
          "base_uri": "https://localhost:8080/"
        },
        "id": "dxv_FYo5tY0M",
        "outputId": "cb931e95-e0e1-4916-8b39-8580e94c52f4"
      },
      "execution_count": 7,
      "outputs": [
        {
          "output_type": "stream",
          "name": "stdout",
          "text": [
            "i like orange\n"
          ]
        }
      ]
    },
    {
      "cell_type": "code",
      "source": [
        "#6 Write a code to create a list with numbers 1 to 5 and print it\n",
        "i = 1\n",
        "while i <= 5:\n",
        "      print(i)\n",
        "      i = i+1"
      ],
      "metadata": {
        "colab": {
          "base_uri": "https://localhost:8080/"
        },
        "id": "_PkQZ_2Dt-ur",
        "outputId": "36894a0d-cc7b-4232-f555-137be1cda018"
      },
      "execution_count": 9,
      "outputs": [
        {
          "output_type": "stream",
          "name": "stdout",
          "text": [
            "1\n",
            "2\n",
            "3\n",
            "4\n",
            "5\n"
          ]
        }
      ]
    },
    {
      "cell_type": "code",
      "source": [
        "#7 Write a code to append the number 10 to the list [1,2,3,4]\n",
        "i = [\"1\", \"2\", \"3\", \"4\"]\n",
        "i.append(\"10\")\n",
        "print(i)"
      ],
      "metadata": {
        "colab": {
          "base_uri": "https://localhost:8080/"
        },
        "id": "qy1oCrLkvGl7",
        "outputId": "d299ea82-0370-4cd3-acf5-ee6c422e107e"
      },
      "execution_count": 10,
      "outputs": [
        {
          "output_type": "stream",
          "name": "stdout",
          "text": [
            "['1', '2', '3', '4', '10']\n"
          ]
        }
      ]
    },
    {
      "cell_type": "code",
      "source": [
        "#8 Write a code to remove the number 3 from the list [1, 2, 3, 4, 5]\n",
        "i = [\"1\", \"2\", \"3\", \"4\", \"5\"]\n",
        "i.remove(\"3\")\n",
        "print(i)"
      ],
      "metadata": {
        "colab": {
          "base_uri": "https://localhost:8080/"
        },
        "id": "J3XP721Rv88-",
        "outputId": "41d32141-f52b-4016-82c8-1b4efabdf024"
      },
      "execution_count": 11,
      "outputs": [
        {
          "output_type": "stream",
          "name": "stdout",
          "text": [
            "['1', '2', '4', '5']\n"
          ]
        }
      ]
    },
    {
      "cell_type": "code",
      "source": [
        "#9 Write a code to access the second element in the list ['a', 'b', 'c', 'd']\n",
        "s = ['a', 'b', 'c', 'd']\n",
        "print(s[1])"
      ],
      "metadata": {
        "colab": {
          "base_uri": "https://localhost:8080/"
        },
        "id": "AmuDaOYJwWnB",
        "outputId": "0f56b8a4-f3e2-4ffb-b22f-a9d2bda505df"
      },
      "execution_count": 13,
      "outputs": [
        {
          "output_type": "stream",
          "name": "stdout",
          "text": [
            "b\n"
          ]
        }
      ]
    },
    {
      "cell_type": "code",
      "source": [
        "#10 Write a code to reverse the list [10, 20, 30, 40, 50]\n",
        "l = [10, 20, 30, 40, 50]\n",
        "l.reverse()\n",
        "print(l)"
      ],
      "metadata": {
        "colab": {
          "base_uri": "https://localhost:8080/"
        },
        "id": "G9tdNtr-yt8R",
        "outputId": "bb97dcc1-5a68-4685-81c1-279e90caabb4"
      },
      "execution_count": 14,
      "outputs": [
        {
          "output_type": "stream",
          "name": "stdout",
          "text": [
            "[50, 40, 30, 20, 10]\n"
          ]
        }
      ]
    },
    {
      "cell_type": "code",
      "source": [
        "#11 Write a code to create a tuple with the elements 100, 200, 300 and print it\n",
        "a, b, c = 100, 200, 300\n",
        "print(a, b, c)"
      ],
      "metadata": {
        "colab": {
          "base_uri": "https://localhost:8080/"
        },
        "id": "vQNI8aro0Dhp",
        "outputId": "f1923f77-b241-4a38-d019-4c067b4279ea"
      },
      "execution_count": 39,
      "outputs": [
        {
          "output_type": "stream",
          "name": "stdout",
          "text": [
            "100 200 300\n"
          ]
        }
      ]
    },
    {
      "cell_type": "code",
      "source": [
        "#12 Write a code to access the second-to-last element of the tuple ('red', 'green', 'blue', 'yellow')\n",
        "s = ('red', 'green', 'blue', 'yellow')\n",
        "print(s[1:])"
      ],
      "metadata": {
        "colab": {
          "base_uri": "https://localhost:8080/"
        },
        "id": "Ejx1dyv11b1v",
        "outputId": "1f66babe-2a1c-4e01-8887-599e74170ee3"
      },
      "execution_count": 15,
      "outputs": [
        {
          "output_type": "stream",
          "name": "stdout",
          "text": [
            "('green', 'blue', 'yellow')\n"
          ]
        }
      ]
    },
    {
      "cell_type": "code",
      "source": [
        "#13 Write a code to find the minimum number in the tuple (10, 20, 5, 15)\n",
        "s = (10, 20, 5, 15)\n",
        "print(min(s))\n"
      ],
      "metadata": {
        "colab": {
          "base_uri": "https://localhost:8080/"
        },
        "id": "dpeTdHAZ2Bcg",
        "outputId": "840c94b2-a398-4d5c-b86e-45856d35ed02"
      },
      "execution_count": 24,
      "outputs": [
        {
          "output_type": "stream",
          "name": "stdout",
          "text": [
            "5\n"
          ]
        }
      ]
    },
    {
      "cell_type": "code",
      "source": [
        "#14 Write a code to find the index of the element \"cat\" in the tuple ('dog', 'cat', 'rabbit').\n",
        "i = ('dog', 'cat', 'rabbit')\n",
        "print(i.index('cat'))"
      ],
      "metadata": {
        "colab": {
          "base_uri": "https://localhost:8080/"
        },
        "id": "ah8R4g2v4C8d",
        "outputId": "1dd01610-6cc4-45a6-a12b-90a37a1f240a"
      },
      "execution_count": 25,
      "outputs": [
        {
          "output_type": "stream",
          "name": "stdout",
          "text": [
            "1\n"
          ]
        }
      ]
    },
    {
      "cell_type": "code",
      "source": [
        "#15 Write a code to create a tuple containing three different fruits and check if \"kiwi\" is in it.\n",
        "a = input(\"Name of first fruit\")\n",
        "b = input(\"Name of second fruit\")\n",
        "c = input(\"Name of third fruit\")\n",
        "fruits = (a, b, c)\n",
        "print(\"kiwi\" in fruits)\n"
      ],
      "metadata": {
        "colab": {
          "base_uri": "https://localhost:8080/"
        },
        "id": "P_84SPXa44iK",
        "outputId": "814b6cbb-eb0f-4526-9cdf-2ecb6e00879f"
      },
      "execution_count": 45,
      "outputs": [
        {
          "output_type": "stream",
          "name": "stdout",
          "text": [
            "Name of first fruitOrange\n",
            "Name of second fruitBanana\n",
            "Name of third fruitGuava\n",
            "False\n"
          ]
        }
      ]
    },
    {
      "cell_type": "code",
      "source": [
        "#16 Write a code to create a set with the elements 'a', 'b', 'c' and print it.\n",
        "s = {'a', 'b', 'c'}\n",
        "print(s)\n",
        "print(type(s))"
      ],
      "metadata": {
        "colab": {
          "base_uri": "https://localhost:8080/"
        },
        "id": "rHji1osX5O3Q",
        "outputId": "e99b23ca-05a0-4c91-bb0a-61e592f1743d"
      },
      "execution_count": 48,
      "outputs": [
        {
          "output_type": "stream",
          "name": "stdout",
          "text": [
            "{'c', 'b', 'a'}\n",
            "<class 'set'>\n"
          ]
        }
      ]
    },
    {
      "cell_type": "code",
      "source": [
        "#17 Write a code to clear all elements from the set {1, 2, 3, 4, 5}.\n",
        "l = {1, 2, 3, 4, 5}\n",
        "l.clear()\n",
        "print(l)"
      ],
      "metadata": {
        "colab": {
          "base_uri": "https://localhost:8080/"
        },
        "id": "NsfYmVUR5ZxF",
        "outputId": "f30ac8ae-f9ff-45cf-8336-75f0abd42f79"
      },
      "execution_count": 26,
      "outputs": [
        {
          "output_type": "stream",
          "name": "stdout",
          "text": [
            "set()\n"
          ]
        }
      ]
    },
    {
      "cell_type": "code",
      "source": [
        "#18 Write a code to remove the element 4 from the set {1, 2, 3, 4}.\n",
        "i = {1, 2, 3, 4}\n",
        "i.remove(4)\n",
        "print(i)"
      ],
      "metadata": {
        "colab": {
          "base_uri": "https://localhost:8080/"
        },
        "id": "kON43x_d5d45",
        "outputId": "f77a741f-c62e-4bb7-8a60-877f79f8bb6a"
      },
      "execution_count": 27,
      "outputs": [
        {
          "output_type": "stream",
          "name": "stdout",
          "text": [
            "{1, 2, 3}\n"
          ]
        }
      ]
    },
    {
      "cell_type": "code",
      "source": [
        "#19 Write a code to find the union of two sets {1, 2, 3} and {3, 4, 5}.\n",
        "A = {1, 2, 3}\n",
        "B = {3, 4, 5}\n",
        "print(A.union(B))"
      ],
      "metadata": {
        "colab": {
          "base_uri": "https://localhost:8080/"
        },
        "id": "4ecnrk4I5k8P",
        "outputId": "9c3489a3-fe8b-4f6e-e61c-a14272aee1d5"
      },
      "execution_count": 49,
      "outputs": [
        {
          "output_type": "stream",
          "name": "stdout",
          "text": [
            "{1, 2, 3, 4, 5}\n"
          ]
        }
      ]
    },
    {
      "cell_type": "code",
      "source": [
        "#20 Write a code to find the intersection of two sets {1, 2, 3} and {2, 3, 4}.\n",
        "A = {1, 2, 3}\n",
        "B = {2, 3, 4}\n",
        "print(A.intersection(B))\n"
      ],
      "metadata": {
        "colab": {
          "base_uri": "https://localhost:8080/"
        },
        "id": "R5TbbeSR5qNq",
        "outputId": "3968dec8-f501-4a50-c1b2-48636c66d337"
      },
      "execution_count": 50,
      "outputs": [
        {
          "output_type": "stream",
          "name": "stdout",
          "text": [
            "{2, 3}\n"
          ]
        }
      ]
    },
    {
      "cell_type": "code",
      "source": [
        "#21 Write a code to create a dictionary with the keys \"name\", \"age\", and \"city\", and print it.\n",
        "i = {'name': 'Bob', 'age': '20', 'city': 'Mumbai'}\n",
        "print(i)"
      ],
      "metadata": {
        "colab": {
          "base_uri": "https://localhost:8080/"
        },
        "id": "yMTfy7HR5uzS",
        "outputId": "3915230b-7d45-4fa9-f2d6-068bf3f07fb8"
      },
      "execution_count": 63,
      "outputs": [
        {
          "output_type": "stream",
          "name": "stdout",
          "text": [
            "{'name': 'Bob', 'age': '20', 'city': 'Mumbai'}\n"
          ]
        }
      ]
    },
    {
      "cell_type": "code",
      "source": [
        "#22 Write a code to add a new key-value pair \"country\": \"USA\" to the dictionary {'name': 'John', 'age': 25}.\n",
        "i = {'name': 'John', 'age': '25'}\n",
        "i['country'] = 'USA'\n",
        "print(i)"
      ],
      "metadata": {
        "colab": {
          "base_uri": "https://localhost:8080/"
        },
        "id": "6yyNZynQ50UY",
        "outputId": "c1e11ddc-980b-4976-c499-4e5188a39500"
      },
      "execution_count": 68,
      "outputs": [
        {
          "output_type": "stream",
          "name": "stdout",
          "text": [
            "{'name': 'John', 'age': '25', 'country': 'USA'}\n"
          ]
        }
      ]
    },
    {
      "cell_type": "code",
      "source": [
        "#23 Write a code to access the value associated with the key \"name\" in the dictionary {'name': 'Alice', 'age': 30}.\n",
        "i = {'name': 'Alice', 'age': '30'}\n",
        "print(i['name'])"
      ],
      "metadata": {
        "colab": {
          "base_uri": "https://localhost:8080/"
        },
        "id": "QAR_UOjU579L",
        "outputId": "5661ef71-9c1c-4e91-e7e3-5d210588b061"
      },
      "execution_count": 70,
      "outputs": [
        {
          "output_type": "stream",
          "name": "stdout",
          "text": [
            "Alice\n"
          ]
        }
      ]
    },
    {
      "cell_type": "code",
      "source": [
        "#24 Write a code to remove the key \"age\" from the dictionary {'name': 'Bob', 'age': 22, 'city': 'New York'}.\n",
        "i = {'name': 'Bob', 'age': '22', 'city': 'New York'}\n",
        "del i['age']\n",
        "print(i)\n"
      ],
      "metadata": {
        "colab": {
          "base_uri": "https://localhost:8080/"
        },
        "id": "haxbdViX6AIg",
        "outputId": "0a2d6465-cb6d-46a2-a66d-bb318d108381"
      },
      "execution_count": 38,
      "outputs": [
        {
          "output_type": "stream",
          "name": "stdout",
          "text": [
            "{'name': 'Bob', 'city': 'New York'}\n"
          ]
        }
      ]
    },
    {
      "cell_type": "code",
      "source": [
        "#25 Write a code to check if the key \"city\" exists in the dictionary {'name': 'Alice', 'city': 'Paris'}.\n",
        "i = {'name': 'Alice', 'city': 'Paris'}\n",
        "print('city' in i)"
      ],
      "metadata": {
        "colab": {
          "base_uri": "https://localhost:8080/"
        },
        "id": "MFHA_JLB6I1t",
        "outputId": "90c4339b-1f89-4ef2-9b38-9f87bb6526c5"
      },
      "execution_count": 71,
      "outputs": [
        {
          "output_type": "stream",
          "name": "stdout",
          "text": [
            "True\n"
          ]
        }
      ]
    },
    {
      "cell_type": "code",
      "source": [
        "#26 Write a code to create a list, a tuple, and a dictionary, and print them all.\n",
        "i = [\"1\", \"2\", \"3\", \"4\"]\n",
        "print(i)\n"
      ],
      "metadata": {
        "colab": {
          "base_uri": "https://localhost:8080/"
        },
        "id": "y5dV0_Mp6VDZ",
        "outputId": "225fed65-9440-4924-eb59-3088f870db18"
      },
      "execution_count": 74,
      "outputs": [
        {
          "output_type": "stream",
          "name": "stdout",
          "text": [
            "['1', '2', '3', '4']\n"
          ]
        }
      ]
    },
    {
      "cell_type": "code",
      "source": [
        "#27 Write a code to create a list of 5 random numbers between 1 and 100, sort it in ascending order, and print the result.(replaced)\n",
        "import random\n",
        "i = [random.randint(1, 100) for _ in range(5)]\n",
        "i.sort()\n",
        "print(i)"
      ],
      "metadata": {
        "colab": {
          "base_uri": "https://localhost:8080/"
        },
        "id": "iUknF8Im6ZS3",
        "outputId": "595d06b3-4124-4892-8ede-d904daf03edd"
      },
      "execution_count": 75,
      "outputs": [
        {
          "output_type": "stream",
          "name": "stdout",
          "text": [
            "[9, 15, 48, 50, 100]\n"
          ]
        }
      ]
    },
    {
      "cell_type": "code",
      "source": [
        "#28 Write a code to create a list with strings and print the element at the third index.\n",
        "i = [\"1\", \"2\", \"3\", \"4\"]\n",
        "print(i[2])"
      ],
      "metadata": {
        "colab": {
          "base_uri": "https://localhost:8080/"
        },
        "id": "YBnKvWJb6boz",
        "outputId": "dc834127-6c1f-4e79-aee2-172cf7fe6949"
      },
      "execution_count": 76,
      "outputs": [
        {
          "output_type": "stream",
          "name": "stdout",
          "text": [
            "3\n"
          ]
        }
      ]
    },
    {
      "cell_type": "code",
      "source": [
        "#29 Write a code to combine two dictionaries into one and print the result.\n",
        "i = {'name': 'Bob', 'age': '20'}\n",
        "j = {'city': 'Mumbai'}\n",
        "i.update(j)\n",
        "print(i)"
      ],
      "metadata": {
        "colab": {
          "base_uri": "https://localhost:8080/"
        },
        "id": "sF7wI2VJ6gQn",
        "outputId": "23bb19a0-0998-4352-ee5a-7509d0fdbb49"
      },
      "execution_count": 80,
      "outputs": [
        {
          "output_type": "stream",
          "name": "stdout",
          "text": [
            "{'name': 'Bob', 'age': '20', 'city': 'Mumbai'}\n"
          ]
        }
      ]
    },
    {
      "cell_type": "code",
      "source": [
        "#30 Write a code to convert a list of strings into a set.\n",
        "i = [\"1\", \"2\", \"3\", \"4\"]\n",
        "print(set(i))"
      ],
      "metadata": {
        "colab": {
          "base_uri": "https://localhost:8080/"
        },
        "id": "2_KhZFAK6kU0",
        "outputId": "b8c55f2e-b270-44ea-8857-efe4e72d7a4d"
      },
      "execution_count": 78,
      "outputs": [
        {
          "output_type": "stream",
          "name": "stdout",
          "text": [
            "{'1', '3', '2', '4'}\n"
          ]
        }
      ]
    }
  ]
}